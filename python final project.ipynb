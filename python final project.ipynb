{
 "cells": [
  {
   "cell_type": "markdown",
   "metadata": {},
   "source": [
    "### PROJECT BY TEMITAYO KEN-BRAIMOH\n",
    "DATA SCIENCE: PYTHON\n",
    "\n",
    "### QUESTION\n",
    "1. Given an integer,n , perform the following conditional actions:\n",
    "\n",
    "● If n is odd, print Weird\n",
    "● If n is even and in the inclusive range of 10 to 100 , print Not Weird\n",
    "● If n is even and in the inclusive range of 101 to 1000 , print Weird\n",
    "● If n is even and greater than 1000 , print Not Weird\n",
    "\n",
    "2. Develop a function called print_full_name that will take two parameters and print a\n",
    "formatted greeting.\n",
    "a. Parameters:\n",
    "i. first (string): The first name of a person.\n",
    "ii. last (string): The last name of a person.\n",
    "b. Output: The function should print the following message: \"Hello [first] [last]! You\n",
    "just delved into python\". Where [first] and [last] should be replaced with the actual\n",
    "values of the parameters. \n"
   ]
  },
  {
   "cell_type": "code",
   "execution_count": 2,
   "metadata": {},
   "outputs": [
    {
     "name": "stdout",
     "output_type": "stream",
     "text": [
      "Weird\n"
     ]
    }
   ],
   "source": [
    "### Solution 1\n",
    "n = int(input(\"Any number\"))\n",
    "if n % 2 == 1:\n",
    "    print ('Weird')\n",
    "    \n",
    "elif n % 2 == 0 and 10<=n<=100:\n",
    "    print ('Not weird')\n",
    "elif n % 2 == 0 and 101<=n<=1000:\n",
    "    print ('Weird')\n",
    "elif n % 2 == 0 and n>1000:\n",
    "    print ('Not weird')\n"
   ]
  },
  {
   "cell_type": "code",
   "execution_count": 4,
   "metadata": {},
   "outputs": [],
   "source": [
    "### Solution 2\n",
    "def print_full_name ():\n",
    "   first_name = input ('First name')\n",
    "   last_name = input ('Last name')\n",
    "   print (f\" Hello {first_name} {last_name}! You just delved into python.\")"
   ]
  },
  {
   "cell_type": "code",
   "execution_count": 5,
   "metadata": {},
   "outputs": [
    {
     "name": "stdout",
     "output_type": "stream",
     "text": [
      " Hello Testing Code! You just delved into python.\n"
     ]
    }
   ],
   "source": [
    "print_full_name()"
   ]
  },
  {
   "cell_type": "code",
   "execution_count": null,
   "metadata": {},
   "outputs": [],
   "source": []
  }
 ],
 "metadata": {
  "kernelspec": {
   "display_name": "Python 3",
   "language": "python",
   "name": "python3"
  },
  "language_info": {
   "codemirror_mode": {
    "name": "ipython",
    "version": 3
   },
   "file_extension": ".py",
   "mimetype": "text/x-python",
   "name": "python",
   "nbconvert_exporter": "python",
   "pygments_lexer": "ipython3",
   "version": "3.12.2"
  }
 },
 "nbformat": 4,
 "nbformat_minor": 2
}
